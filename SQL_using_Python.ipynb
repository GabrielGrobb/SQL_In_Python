{
 "cells": [
  {
   "cell_type": "code",
   "execution_count": 1,
   "metadata": {},
   "outputs": [],
   "source": [
    "# Import sqlite3 module \n",
    "import  sqlite3\n",
    "from sqlite3 import Error"
   ]
  },
  {
   "cell_type": "markdown",
   "metadata": {},
   "source": [
    "<h2>Connect to SQLite Database</h2>"
   ]
  },
  {
   "cell_type": "code",
   "execution_count": 2,
   "metadata": {},
   "outputs": [],
   "source": [
    "# Creating a function to intialize a connection to SQLite database.\n",
    "def create_connection(path):\n",
    "    # intializing a temporary variable.\n",
    "    connection = None\n",
    "    # Using try and except to verify database connection.\n",
    "    try:\n",
    "        connection = sqlite3.connect(path)\n",
    "        print(\"Connection to SQLite DB successful\")\n",
    "    \n",
    "    # Catching an exception if the connection fails. \n",
    "    except Error as e:\n",
    "        print(f\"The error '{e} occured\")\n",
    "    \n",
    "    # Return the state of the connection. \n",
    "    return connection "
   ]
  },
  {
   "cell_type": "code",
   "execution_count": 3,
   "metadata": {},
   "outputs": [
    {
     "name": "stdout",
     "output_type": "stream",
     "text": [
      "Connection to SQLite DB successful\n"
     ]
    }
   ],
   "source": [
    "# Executing the create connection function. \n",
    "connection = create_connection(\"E:\\\\sm_app.sqlite\")"
   ]
  },
  {
   "cell_type": "markdown",
   "metadata": {},
   "source": [
    "<h2>Creating Tables for SQLite database<h2>"
   ]
  },
  {
   "cell_type": "code",
   "execution_count": 4,
   "metadata": {},
   "outputs": [],
   "source": [
    "# Intialiting a method to create various tables. \n",
    "def create_tables(connection, create_table):\n",
    "    cursor = connection.cursor()\n",
    "\n",
    "    # Using try and except to verify table creation.\n",
    "    try:\n",
    "        cursor.execute(create_table)\n",
    "        connection.commit()\n",
    "        print(\"Table was created successfully\")\n",
    "\n",
    "        # Catching an exception if the table could not be created.\n",
    "    except Error as e:\n",
    "        print(f\"The error '{e} occured\")"
   ]
  },
  {
   "cell_type": "code",
   "execution_count": 5,
   "metadata": {},
   "outputs": [
    {
     "name": "stdout",
     "output_type": "stream",
     "text": [
      "Table was created successfully\n"
     ]
    }
   ],
   "source": [
    "# A variable to create the user table. \n",
    "create_user_table = \"\"\"\n",
    "CREATE TABLE IF NOT EXISTS user (\n",
    "    id INTEGER PRIMARY KEY AUTOINCREMENT,\n",
    "    name TEXT NOT NULL,\n",
    "    age INTEGER,\n",
    "    gender TEXT,\n",
    "    nationality TEXT\n",
    ");\n",
    "\"\"\"\n",
    "\n",
    "# Executing the create_tables function.\n",
    "create_tables(connection, create_user_table)\n"
   ]
  },
  {
   "cell_type": "code",
   "execution_count": 6,
   "metadata": {},
   "outputs": [
    {
     "name": "stdout",
     "output_type": "stream",
     "text": [
      "Table was created successfully\n"
     ]
    }
   ],
   "source": [
    "# A variable to create the post table. \n",
    "create_post_table = \"\"\"\n",
    "CREATE TABLE IF NOT EXISTS post (\n",
    "    id INTEGER PRIMARY KEY AUTOINCREMENT,\n",
    "    title TEXT NOT NULL,\n",
    "    description TEXT NOT NULL,\n",
    "    user_id INTEGER NOT NULL,\n",
    "    FOREIGN KEY (user_id) REFERENCES users (id)\n",
    ");\n",
    "\"\"\"\n",
    "\n",
    "# Executing the create_tables function.\n",
    "create_tables(connection, create_post_table)"
   ]
  }
 ],
 "metadata": {
  "kernelspec": {
   "display_name": "base",
   "language": "python",
   "name": "python3"
  },
  "language_info": {
   "codemirror_mode": {
    "name": "ipython",
    "version": 3
   },
   "file_extension": ".py",
   "mimetype": "text/x-python",
   "name": "python",
   "nbconvert_exporter": "python",
   "pygments_lexer": "ipython3",
   "version": "3.12.3"
  }
 },
 "nbformat": 4,
 "nbformat_minor": 2
}
