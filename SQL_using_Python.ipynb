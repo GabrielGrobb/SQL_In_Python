{
 "cells": [
  {
   "cell_type": "code",
   "execution_count": null,
   "metadata": {},
   "outputs": [],
   "source": [
    "# Import sqlite3 module \n",
    "import  sqlite3\n",
    "from sqlite3 import Error"
   ]
  },
  {
   "cell_type": "markdown",
   "metadata": {},
   "source": [
    "<h2>Connect to SQLite Database</h2>"
   ]
  },
  {
   "cell_type": "code",
   "execution_count": null,
   "metadata": {},
   "outputs": [],
   "source": [
    "# Creating a function to intialize a connection to SQLite database.\n",
    "def create_connection(path):\n",
    "    # intializing a temporary variable.\n",
    "    connection = None\n",
    "    # Using try and except to verify database connection.\n",
    "    try:\n",
    "        connection = sqlite3.connect(path)\n",
    "        print(\"Connection to SQLite DB successful\")\n",
    "    \n",
    "    # Catching an exception if the connection fails. \n",
    "    except Error as e:\n",
    "        print(f\"The error '{e} occured\")\n",
    "    \n",
    "    # Return the state of the connection. \n",
    "    return connection "
   ]
  },
  {
   "cell_type": "code",
   "execution_count": null,
   "metadata": {},
   "outputs": [
    {
     "name": "stdout",
     "output_type": "stream",
     "text": [
      "Connection to SQLite DB successful\n"
     ]
    }
   ],
   "source": [
    "# Executing the create connection function. \n",
    "connection = create_connection(\"E:\\\\sm_app.sqlite\")"
   ]
  },
  {
   "cell_type": "markdown",
   "metadata": {},
   "source": [
    "<h2>Creating Tables for SQLite database<h2>"
   ]
  },
  {
   "cell_type": "code",
   "execution_count": null,
   "metadata": {},
   "outputs": [],
   "source": [
    "# Intialiting a method to create various tables. \n",
    "def create_tables(database_connection, create_table):\n",
    "    cursor = connection.cursor()\n",
    "\n",
    "    # Using try and except to verify table creation.\n",
    "    try:\n",
    "        cursor.execute(create_table)\n",
    "        database_connection.commit()\n",
    "        print(\"Table was created successfully\")\n",
    "\n",
    "        # Catching an exception if the table could not be created.\n",
    "    except Error as e:\n",
    "        print(f\"The error '{e} occured\")"
   ]
  }
 ],
 "metadata": {
  "kernelspec": {
   "display_name": "base",
   "language": "python",
   "name": "python3"
  },
  "language_info": {
   "codemirror_mode": {
    "name": "ipython",
    "version": 3
   },
   "file_extension": ".py",
   "mimetype": "text/x-python",
   "name": "python",
   "nbconvert_exporter": "python",
   "pygments_lexer": "ipython3",
   "version": "3.12.3"
  }
 },
 "nbformat": 4,
 "nbformat_minor": 2
}
